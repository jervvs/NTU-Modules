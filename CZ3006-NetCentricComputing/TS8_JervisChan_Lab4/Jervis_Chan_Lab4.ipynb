{
 "cells": [
  {
   "cell_type": "markdown",
   "metadata": {},
   "source": [
    "# Jervis Chan Jun Yong\n",
    "Lab Group: TS8\n"
   ]
  },
  {
   "cell_type": "code",
   "execution_count": null,
   "metadata": {},
   "outputs": [],
   "source": [
    "import pandas as pd\n",
    "import networkx as nx\n",
    "import matplotlib.pyplot as plt"
   ]
  },
  {
   "cell_type": "code",
   "execution_count": null,
   "metadata": {
    "scrolled": false
   },
   "outputs": [],
   "source": [
    "SFlow_data = pd.read_csv(\"SFlow_Data_lab4.csv\", header = None)\n",
    "SFlow_data.columns = [\"Type\", \"sflow_agent_address\", \"inputPort\", \"outputPort\", \"src_MAC\", \"dst_MAC\", \"ethernet_type\", \"in_vlan\", \"out_vlan\", \"src_IP\", \"dst_IP\", \"IP_protocol\", \"ip_tos\", \"ip_ttl\", \"udp_src_port/tcp_src_port/icmp_type\", \"udp_dst_port/tcp_dst_port/icmp_code\", \"tcp_flags\", \"packet_size\", \"IP_size\", \"sampling_rate\"]\n",
    "SFlow_data.head()"
   ]
  },
  {
   "cell_type": "markdown",
   "metadata": {},
   "source": [
    "# Top Talkers and Listeners"
   ]
  },
  {
   "cell_type": "code",
   "execution_count": null,
   "metadata": {},
   "outputs": [],
   "source": [
    "top_5_talkers = SFlow_data.pivot_table(index=['src_IP'], aggfunc='size').sort_values(ascending=False).iloc[0:5]\n",
    "top_5_talkers"
   ]
  },
  {
   "cell_type": "code",
   "execution_count": null,
   "metadata": {},
   "outputs": [],
   "source": [
    "top_5_listeners = SFlow_data.pivot_table(index=['dst_IP'], aggfunc='size').sort_values(ascending=False).iloc[0:5]\n",
    "top_5_listeners"
   ]
  },
  {
   "cell_type": "markdown",
   "metadata": {},
   "source": [
    "# Transport Protocol"
   ]
  },
  {
   "cell_type": "code",
   "execution_count": null,
   "metadata": {},
   "outputs": [],
   "source": [
    "top_5_packets = SFlow_data.pivot_table(index=['IP_protocol'], aggfunc='size').sort_values(ascending=False).iloc[0:5]\n",
    "total_packets = top_5_packets.sum()\n",
    "print(top_5_packets)"
   ]
  },
  {
   "cell_type": "code",
   "execution_count": null,
   "metadata": {
    "scrolled": true
   },
   "outputs": [],
   "source": [
    "top_5_packets /= total_packets\n",
    "top_5_packets"
   ]
  },
  {
   "cell_type": "markdown",
   "metadata": {},
   "source": [
    "# Applications Protocol"
   ]
  },
  {
   "cell_type": "code",
   "execution_count": null,
   "metadata": {},
   "outputs": [],
   "source": [
    "top_5_packets = SFlow_data.pivot_table(index=['udp_dst_port/tcp_dst_port/icmp_code'], aggfunc='size').sort_values(ascending=False).iloc[0:5]\n",
    "top_5_packets"
   ]
  },
  {
   "cell_type": "markdown",
   "metadata": {},
   "source": [
    "# Traffic"
   ]
  },
  {
   "cell_type": "code",
   "execution_count": null,
   "metadata": {},
   "outputs": [],
   "source": [
    "sampling_rates = SFlow_data.pivot_table(index=['sampling_rate'], aggfunc='size').sort_values(ascending=False)\n",
    "sampling_rates"
   ]
  },
  {
   "cell_type": "code",
   "execution_count": null,
   "metadata": {},
   "outputs": [],
   "source": [
    "# Base10 MB to B Conversion\n",
    "traffic = SFlow_data[\"IP_size\"] * 1000\n",
    "total_traffic = traffic.sum() / 10**6\n",
    "print(\"Total Traffic (1): \", total_traffic, \"MB\")\n",
    "\n",
    "# Base2 MB to B Conversion\n",
    "traffic = SFlow_data[\"IP_size\"] * 1000\n",
    "total_traffic = traffic.sum() / 2**20\n",
    "print(\"Total Traffic (2): \", total_traffic, \"MB\")"
   ]
  },
  {
   "cell_type": "markdown",
   "metadata": {},
   "source": [
    "# Additional Analysis"
   ]
  },
  {
   "cell_type": "markdown",
   "metadata": {},
   "source": [
    "## Top 5 Communication Pairs"
   ]
  },
  {
   "cell_type": "code",
   "execution_count": null,
   "metadata": {},
   "outputs": [],
   "source": [
    "pair_data = SFlow_data\n",
    "pair_data['pair_IP'] = None\n",
    "\n",
    "for index, row in pair_data.iterrows():\n",
    "    pair = [row['src_IP'], row['dst_IP']]\n",
    "    pair.sort()\n",
    "    pair_ = tuple(pair)\n",
    "    pair_data.at[index, 'pair_IP'] = pair_\n",
    "\n",
    "pair_data_grouped = pair_data.groupby('pair_IP').size().reset_index(name='Count')\n",
    "pair_data_grouped = pair_data_grouped.sort_values(['Count'], ascending=False)\n",
    "top_5_pairs = pair_data_grouped.head(5)\n",
    "top_5_pairs"
   ]
  },
  {
   "cell_type": "markdown",
   "metadata": {},
   "source": [
    "## Visualisations of Top Listeners"
   ]
  },
  {
   "cell_type": "code",
   "execution_count": null,
   "metadata": {},
   "outputs": [],
   "source": [
    "for listener in top_5_listeners.keys():\n",
    "    listener_network = SFlow_data.loc[SFlow_data['dst_IP'] == listener]\n",
    "    listener_network = listener_network[['src_IP', 'dst_IP']]\n",
    "    print(\"dst_IP:\", listener)\n",
    "\n",
    "    G = nx.Graph()\n",
    "    G = nx.from_pandas_edgelist(listener_network, 'src_IP', 'dst_IP')\n",
    "    print(list(G.nodes))\n",
    "    nx.draw(G, with_labels=False)\n",
    "    plt.show()"
   ]
  },
  {
   "cell_type": "markdown",
   "metadata": {},
   "source": [
    "## Visualisations of Top Talkers"
   ]
  },
  {
   "cell_type": "code",
   "execution_count": null,
   "metadata": {},
   "outputs": [],
   "source": [
    "for talker in top_5_talkers.keys():\n",
    "    talker_network = SFlow_data.loc[SFlow_data['src_IP'] == talker]\n",
    "    talker_network = talker_network[['src_IP', 'dst_IP']]\n",
    "    print(\"src_IP:\", talker)\n",
    "\n",
    "    G = nx.Graph()\n",
    "    G = nx.from_pandas_edgelist(talker_network, 'src_IP', 'dst_IP')\n",
    "    print(list(G.nodes))\n",
    "    nx.draw(G, with_labels=False)\n",
    "    plt.show()"
   ]
  },
  {
   "cell_type": "code",
   "execution_count": null,
   "metadata": {},
   "outputs": [],
   "source": []
  }
 ],
 "metadata": {
  "kernelspec": {
   "display_name": "Python 3",
   "language": "python",
   "name": "python3"
  },
  "language_info": {
   "codemirror_mode": {
    "name": "ipython",
    "version": 3
   },
   "file_extension": ".py",
   "mimetype": "text/x-python",
   "name": "python",
   "nbconvert_exporter": "python",
   "pygments_lexer": "ipython3",
   "version": "3.7.6"
  }
 },
 "nbformat": 4,
 "nbformat_minor": 4
}

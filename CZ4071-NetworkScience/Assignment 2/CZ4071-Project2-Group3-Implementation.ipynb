{
 "cells": [
  {
   "cell_type": "code",
   "execution_count": 1,
   "metadata": {},
   "outputs": [],
   "source": [
    "# REFERENCE\n",
    "# https://stellargraph.readthedocs.io/en/stable/demos/node-classification/rgcn-node-classification.html"
   ]
  },
  {
   "cell_type": "markdown",
   "metadata": {},
   "source": [
    "# Import Libraries"
   ]
  },
  {
   "cell_type": "code",
   "execution_count": 2,
   "metadata": {},
   "outputs": [],
   "source": [
    "from rdflib.extras.external_graph_libs import *\n",
    "from rdflib import Graph, URIRef, Literal\n",
    "\n",
    "import networkx as nx\n",
    "from networkx.classes.function import info\n",
    "\n",
    "import stellargraph as sg\n",
    "from stellargraph.mapper import RelationalFullBatchNodeGenerator\n",
    "from stellargraph.layer import RGCN\n",
    "\n",
    "import numpy as np\n",
    "import matplotlib.pyplot as plt\n",
    "import os\n",
    "import pandas as pd\n",
    "\n",
    "import tensorflow as tf\n",
    "from tensorflow import keras\n",
    "from tensorflow.keras.layers import Dense\n",
    "from tensorflow.keras.models import Model\n",
    "\n",
    "import sklearn\n",
    "from sklearn import model_selection, preprocessing\n",
    "from collections import Counter\n",
    "from stellargraph import datasets\n",
    "from IPython.display import display, HTML\n",
    "import matplotlib.pyplot as plt\n",
    "%matplotlib inline"
   ]
  },
  {
   "cell_type": "markdown",
   "metadata": {},
   "source": [
    "# R-GCN Entity Classification Experiment Replication \n",
    "\n",
    "The paper performed entity classification experimentations on the AIFB, MUTAG, BGS and AM datasets and were run on CPU nodes with 64GB of memory.\n",
    "\n",
    "We will replicate the AIFB experiment locally with the StellarGraph Machine Learning Library's implementation of R-GCN, and perform experiments on other datasets, namely:\n",
    "1. Cora\n",
    "2. Citeseer"
   ]
  },
  {
   "cell_type": "markdown",
   "metadata": {},
   "source": [
    "# AIFB Experiment Replication\n",
    "\n",
    "In the paper, R-GCN achieved average accuracy of 95.83 for AIFB dataset."
   ]
  },
  {
   "cell_type": "code",
   "execution_count": 3,
   "metadata": {},
   "outputs": [],
   "source": [
    "# 1.Loading Data\n",
    "dataset = datasets.AIFB()\n",
    "display(HTML(dataset.description))\n",
    "G, affiliation = dataset.load()"
   ]
  },
  {
   "cell_type": "code",
   "execution_count": 4,
   "metadata": {},
   "outputs": [],
   "source": [
    "# 2.Input Preparation\n",
    "train_targets, test_targets = model_selection.train_test_split(\n",
    "    affiliation, train_size=0.8, test_size=0.2\n",
    ")"
   ]
  },
  {
   "cell_type": "code",
   "execution_count": 5,
   "metadata": {},
   "outputs": [],
   "source": [
    "generator = RelationalFullBatchNodeGenerator(G, sparse=True)\n",
    "train_gen = generator.flow(train_targets.index, targets=train_targets)\n",
    "test_gen = generator.flow(test_targets.index, targets=test_targets)"
   ]
  },
  {
   "cell_type": "code",
   "execution_count": 6,
   "metadata": {},
   "outputs": [],
   "source": [
    "# 3.RGCN model creation and training\n",
    "rgcn = RGCN(\n",
    "    layer_sizes=[16, 16],\n",
    "    activations=[\"relu\", \"relu\"],\n",
    "    generator=generator,\n",
    "    bias=True,\n",
    "    num_bases=0,\n",
    "    dropout=0.5,\n",
    ")"
   ]
  },
  {
   "cell_type": "code",
   "execution_count": 7,
   "metadata": {},
   "outputs": [],
   "source": [
    "x_in, x_out = rgcn.in_out_tensors()\n",
    "predictions = Dense(train_targets.shape[-1], activation=\"softmax\")(x_out)\n",
    "model = Model(inputs=x_in, outputs=predictions)\n",
    "model.compile(\n",
    "    loss=\"categorical_crossentropy\",\n",
    "    optimizer=keras.optimizers.Adam(0.01),\n",
    "    metrics=[\"acc\"],\n",
    ")"
   ]
  },
  {
   "cell_type": "code",
   "execution_count": 8,
   "metadata": {},
   "outputs": [
    {
     "name": "stdout",
     "output_type": "stream",
     "text": [
      "Epoch 1/50\n",
      "1/1 [==============================] - 24s 24s/step - loss: 1.6090 - acc: 0.3239 - val_loss: 1.5732 - val_acc: 0.6111\n",
      "Epoch 2/50\n",
      "1/1 [==============================] - 18s 18s/step - loss: 1.5475 - acc: 0.6831 - val_loss: 1.5264 - val_acc: 0.6944\n",
      "Epoch 3/50\n",
      "1/1 [==============================] - 18s 18s/step - loss: 1.4927 - acc: 0.6831 - val_loss: 1.4656 - val_acc: 0.6944\n",
      "Epoch 4/50\n",
      "1/1 [==============================] - 18s 18s/step - loss: 1.4156 - acc: 0.8028 - val_loss: 1.3978 - val_acc: 0.6944\n",
      "Epoch 5/50\n",
      "1/1 [==============================] - 18s 18s/step - loss: 1.3260 - acc: 0.7676 - val_loss: 1.3248 - val_acc: 0.6944\n",
      "Epoch 6/50\n",
      "1/1 [==============================] - 17s 17s/step - loss: 1.2067 - acc: 0.8380 - val_loss: 1.2484 - val_acc: 0.6944\n",
      "Epoch 7/50\n",
      "1/1 [==============================] - 16s 16s/step - loss: 1.2003 - acc: 0.7887 - val_loss: 1.1725 - val_acc: 0.6944\n",
      "Epoch 8/50\n",
      "1/1 [==============================] - 16s 16s/step - loss: 1.0690 - acc: 0.8169 - val_loss: 1.0993 - val_acc: 0.6944\n",
      "Epoch 9/50\n",
      "1/1 [==============================] - 17s 17s/step - loss: 0.9206 - acc: 0.8099 - val_loss: 1.0285 - val_acc: 0.7222\n",
      "Epoch 10/50\n",
      "1/1 [==============================] - 17s 17s/step - loss: 0.8820 - acc: 0.8169 - val_loss: 0.9617 - val_acc: 0.7222\n",
      "Epoch 11/50\n",
      "1/1 [==============================] - 17s 17s/step - loss: 0.7258 - acc: 0.8521 - val_loss: 0.9010 - val_acc: 0.7500\n",
      "Epoch 12/50\n",
      "1/1 [==============================] - 19s 19s/step - loss: 0.7395 - acc: 0.8380 - val_loss: 0.8444 - val_acc: 0.7500\n",
      "Epoch 13/50\n",
      "1/1 [==============================] - 18s 18s/step - loss: 0.5799 - acc: 0.8732 - val_loss: 0.7916 - val_acc: 0.7500\n",
      "Epoch 14/50\n",
      "1/1 [==============================] - 19s 19s/step - loss: 0.5635 - acc: 0.8310 - val_loss: 0.7438 - val_acc: 0.7500\n",
      "Epoch 15/50\n",
      "1/1 [==============================] - 20s 20s/step - loss: 0.5789 - acc: 0.8873 - val_loss: 0.7012 - val_acc: 0.7500\n",
      "Epoch 16/50\n",
      "1/1 [==============================] - 19s 19s/step - loss: 0.4964 - acc: 0.8592 - val_loss: 0.6629 - val_acc: 0.7500\n",
      "Epoch 17/50\n",
      "1/1 [==============================] - 18s 18s/step - loss: 0.4667 - acc: 0.8662 - val_loss: 0.6273 - val_acc: 0.7500\n",
      "Epoch 18/50\n",
      "1/1 [==============================] - 19s 19s/step - loss: 0.4445 - acc: 0.8592 - val_loss: 0.5913 - val_acc: 0.7778\n",
      "Epoch 19/50\n",
      "1/1 [==============================] - 20s 20s/step - loss: 0.3570 - acc: 0.8662 - val_loss: 0.5551 - val_acc: 0.8333\n",
      "Epoch 20/50\n",
      "1/1 [==============================] - 20s 20s/step - loss: 0.3549 - acc: 0.8944 - val_loss: 0.5210 - val_acc: 0.8611\n",
      "Epoch 21/50\n",
      "1/1 [==============================] - 18s 18s/step - loss: 0.3151 - acc: 0.9296 - val_loss: 0.4874 - val_acc: 0.8611\n",
      "Epoch 22/50\n",
      "1/1 [==============================] - 16s 16s/step - loss: 0.3002 - acc: 0.8944 - val_loss: 0.4525 - val_acc: 0.8611\n",
      "Epoch 23/50\n",
      "1/1 [==============================] - 15s 15s/step - loss: 0.3401 - acc: 0.8944 - val_loss: 0.4193 - val_acc: 0.8889\n",
      "Epoch 24/50\n",
      "1/1 [==============================] - 15s 15s/step - loss: 0.3146 - acc: 0.8873 - val_loss: 0.3848 - val_acc: 0.8889\n",
      "Epoch 25/50\n",
      "1/1 [==============================] - 15s 15s/step - loss: 0.2618 - acc: 0.9296 - val_loss: 0.3531 - val_acc: 0.8889\n",
      "Epoch 26/50\n",
      "1/1 [==============================] - 17s 17s/step - loss: 0.2287 - acc: 0.9225 - val_loss: 0.3227 - val_acc: 0.8889\n",
      "Epoch 27/50\n",
      "1/1 [==============================] - 17s 17s/step - loss: 0.2202 - acc: 0.9155 - val_loss: 0.2950 - val_acc: 0.9167\n",
      "Epoch 28/50\n",
      "1/1 [==============================] - 16s 16s/step - loss: 0.2604 - acc: 0.9366 - val_loss: 0.2743 - val_acc: 0.9167\n",
      "Epoch 29/50\n",
      "1/1 [==============================] - 16s 16s/step - loss: 0.2132 - acc: 0.9507 - val_loss: 0.2579 - val_acc: 0.9167\n",
      "Epoch 30/50\n",
      "1/1 [==============================] - 16s 16s/step - loss: 0.1690 - acc: 0.9577 - val_loss: 0.2446 - val_acc: 0.9167\n",
      "Epoch 31/50\n",
      "1/1 [==============================] - 19s 19s/step - loss: 0.1768 - acc: 0.9577 - val_loss: 0.2373 - val_acc: 0.9444\n",
      "Epoch 32/50\n",
      "1/1 [==============================] - 19s 19s/step - loss: 0.1872 - acc: 0.9648 - val_loss: 0.2333 - val_acc: 0.9444\n",
      "Epoch 33/50\n",
      "1/1 [==============================] - 19s 19s/step - loss: 0.1760 - acc: 0.9507 - val_loss: 0.2297 - val_acc: 0.9444\n",
      "Epoch 34/50\n",
      "1/1 [==============================] - 20s 20s/step - loss: 0.2355 - acc: 0.9296 - val_loss: 0.2269 - val_acc: 0.9444\n",
      "Epoch 35/50\n",
      "1/1 [==============================] - 20s 20s/step - loss: 0.2092 - acc: 0.9366 - val_loss: 0.2239 - val_acc: 0.9444\n",
      "Epoch 36/50\n",
      "1/1 [==============================] - 20s 20s/step - loss: 0.1526 - acc: 0.9648 - val_loss: 0.2217 - val_acc: 0.9444\n",
      "Epoch 37/50\n",
      "1/1 [==============================] - 18s 18s/step - loss: 0.1788 - acc: 0.9366 - val_loss: 0.2193 - val_acc: 0.9444\n",
      "Epoch 38/50\n",
      "1/1 [==============================] - 17s 17s/step - loss: 0.1562 - acc: 0.9507 - val_loss: 0.2173 - val_acc: 0.9444\n",
      "Epoch 39/50\n",
      "1/1 [==============================] - 19s 19s/step - loss: 0.0920 - acc: 0.9718 - val_loss: 0.2156 - val_acc: 0.9444\n",
      "Epoch 40/50\n",
      "1/1 [==============================] - 19s 19s/step - loss: 0.1400 - acc: 0.9577 - val_loss: 0.2143 - val_acc: 0.9444\n",
      "Epoch 41/50\n",
      "1/1 [==============================] - 19s 19s/step - loss: 0.1242 - acc: 0.9718 - val_loss: 0.2154 - val_acc: 0.9444\n",
      "Epoch 42/50\n",
      "1/1 [==============================] - 19s 19s/step - loss: 0.1263 - acc: 0.9648 - val_loss: 0.2174 - val_acc: 0.9444\n",
      "Epoch 43/50\n",
      "1/1 [==============================] - 17s 17s/step - loss: 0.1641 - acc: 0.9507 - val_loss: 0.2198 - val_acc: 0.9444\n",
      "Epoch 44/50\n",
      "1/1 [==============================] - 16s 16s/step - loss: 0.1502 - acc: 0.9577 - val_loss: 0.2234 - val_acc: 0.9444\n",
      "Epoch 45/50\n",
      "1/1 [==============================] - 16s 16s/step - loss: 0.1591 - acc: 0.9648 - val_loss: 0.2262 - val_acc: 0.9444\n",
      "Epoch 46/50\n",
      "1/1 [==============================] - 16s 16s/step - loss: 0.1926 - acc: 0.9507 - val_loss: 0.2277 - val_acc: 0.9444\n",
      "Epoch 47/50\n",
      "1/1 [==============================] - 18s 18s/step - loss: 0.0888 - acc: 0.9718 - val_loss: 0.2303 - val_acc: 0.9444\n",
      "Epoch 48/50\n",
      "1/1 [==============================] - 19s 19s/step - loss: 0.1229 - acc: 0.9718 - val_loss: 0.2338 - val_acc: 0.9444\n",
      "Epoch 49/50\n",
      "1/1 [==============================] - 19s 19s/step - loss: 0.1699 - acc: 0.9577 - val_loss: 0.2355 - val_acc: 0.9444\n",
      "Epoch 50/50\n",
      "1/1 [==============================] - 17s 17s/step - loss: 0.0838 - acc: 0.9789 - val_loss: 0.2366 - val_acc: 0.9444\n"
     ]
    }
   ],
   "source": [
    "history = model.fit(train_gen, validation_data=test_gen, epochs=50)"
   ]
  },
  {
   "cell_type": "code",
   "execution_count": 9,
   "metadata": {},
   "outputs": [
    {
     "data": {
      "image/png": "[encoded data removed]",
      "text/plain": [
       "<Figure size 504x576 with 2 Axes>"
      ]
     },
     "metadata": {
      "needs_background": "light"
     },
     "output_type": "display_data"
    }
   ],
   "source": [
    "sg.utils.plot_history(history)"
   ]
  },
  {
   "cell_type": "code",
   "execution_count": 10,
   "metadata": {},
   "outputs": [
    {
     "name": "stdout",
     "output_type": "stream",
     "text": [
      "1/1 [==============================] - 3s 3s/step - loss: 0.2366 - acc: 0.9444\n",
      "\n",
      "Test Set Metrics:\n",
      "\tloss: 0.2366\n",
      "\tacc: 0.9444\n"
     ]
    }
   ],
   "source": [
    "test_metrics = model.evaluate(test_gen)\n",
    "print(\"\\nTest Set Metrics:\")\n",
    "for name, val in zip(model.metrics_names, test_metrics):\n",
    "    print(\"\\t{}: {:0.4f}\".format(name, val))"
   ]
  },
  {
   "cell_type": "markdown",
   "metadata": {},
   "source": [
    "# Cora Dataset"
   ]
  },
  {
   "cell_type": "code",
   "execution_count": 11,
   "metadata": {
    "scrolled": true
   },
   "outputs": [
    {
     "data": {
      "text/html": [
       "The Cora dataset consists of 2708 scientific publications classified into one of seven classes. The citation network consists of 5429 links. Each publication in the dataset is described by a 0/1-valued word vector indicating the absence/presence of the corresponding word from the dictionary. The dictionary consists of 1433 unique words."
      ],
      "text/plain": [
       "<IPython.core.display.HTML object>"
      ]
     },
     "metadata": {},
     "output_type": "display_data"
    }
   ],
   "source": [
    "dataset = datasets.Cora()\n",
    "display(HTML(dataset.description))\n",
    "G, node_subjects = dataset.load()"
   ]
  },
  {
   "cell_type": "code",
   "execution_count": 12,
   "metadata": {},
   "outputs": [
    {
     "data": {
      "text/html": [
       "<div>\n",
       "<style scoped>\n",
       "    .dataframe tbody tr th:only-of-type {\n",
       "        vertical-align: middle;\n",
       "    }\n",
       "\n",
       "    .dataframe tbody tr th {\n",
       "        vertical-align: top;\n",
       "    }\n",
       "\n",
       "    .dataframe thead th {\n",
       "        text-align: right;\n",
       "    }\n",
       "</style>\n",
       "<table border=\"1\" class=\"dataframe\">\n",
       "  <thead>\n",
       "    <tr style=\"text-align: right;\">\n",
       "      <th></th>\n",
       "      <th>subject</th>\n",
       "    </tr>\n",
       "  </thead>\n",
       "  <tbody>\n",
       "    <tr>\n",
       "      <th>Neural_Networks</th>\n",
       "      <td>818</td>\n",
       "    </tr>\n",
       "    <tr>\n",
       "      <th>Probabilistic_Methods</th>\n",
       "      <td>426</td>\n",
       "    </tr>\n",
       "    <tr>\n",
       "      <th>Genetic_Algorithms</th>\n",
       "      <td>418</td>\n",
       "    </tr>\n",
       "    <tr>\n",
       "      <th>Theory</th>\n",
       "      <td>351</td>\n",
       "    </tr>\n",
       "    <tr>\n",
       "      <th>Case_Based</th>\n",
       "      <td>298</td>\n",
       "    </tr>\n",
       "    <tr>\n",
       "      <th>Reinforcement_Learning</th>\n",
       "      <td>217</td>\n",
       "    </tr>\n",
       "    <tr>\n",
       "      <th>Rule_Learning</th>\n",
       "      <td>180</td>\n",
       "    </tr>\n",
       "  </tbody>\n",
       "</table>\n",
       "</div>"
      ],
      "text/plain": [
       "                        subject\n",
       "Neural_Networks             818\n",
       "Probabilistic_Methods       426\n",
       "Genetic_Algorithms          418\n",
       "Theory                      351\n",
       "Case_Based                  298\n",
       "Reinforcement_Learning      217\n",
       "Rule_Learning               180"
      ]
     },
     "execution_count": 12,
     "metadata": {},
     "output_type": "execute_result"
    }
   ],
   "source": [
    "node_subjects.value_counts().to_frame()"
   ]
  },
  {
   "cell_type": "code",
   "execution_count": 13,
   "metadata": {},
   "outputs": [],
   "source": [
    "train_subjects, test_subjects = model_selection.train_test_split(\n",
    "    node_subjects, train_size=0.8, test_size=0.2, stratify=node_subjects\n",
    ")"
   ]
  },
  {
   "cell_type": "code",
   "execution_count": 14,
   "metadata": {},
   "outputs": [],
   "source": [
    "target_encoding = preprocessing.LabelBinarizer()\n",
    "\n",
    "train_targets = target_encoding.fit_transform(train_subjects)\n",
    "test_targets = target_encoding.transform(test_subjects)"
   ]
  },
  {
   "cell_type": "code",
   "execution_count": 15,
   "metadata": {},
   "outputs": [],
   "source": [
    "generator = RelationalFullBatchNodeGenerator(G, sparse=True)\n",
    "train_gen = generator.flow(train_subjects.index, targets=train_targets)\n",
    "test_gen = generator.flow(test_subjects.index, targets=test_targets)"
   ]
  },
  {
   "cell_type": "code",
   "execution_count": 60,
   "metadata": {},
   "outputs": [],
   "source": [
    "rgcn = RGCN(\n",
    "    layer_sizes=[16, 16],\n",
    "    activations=[\"relu\", \"relu\"],\n",
    "    generator=generator,\n",
    "    bias=True,\n",
    "    num_bases=0,\n",
    "    dropout=0.5,\n",
    ")"
   ]
  },
  {
   "cell_type": "code",
   "execution_count": 61,
   "metadata": {},
   "outputs": [],
   "source": [
    "x_in, x_out = rgcn.in_out_tensors()\n",
    "predictions = Dense(train_targets.shape[-1], activation=\"softmax\")(x_out)\n",
    "model = Model(inputs=x_in, outputs=predictions)\n",
    "model.compile(\n",
    "    loss=\"categorical_crossentropy\",\n",
    "    optimizer=keras.optimizers.Adam(0.01),\n",
    "    metrics=[\"acc\"],\n",
    ")"
   ]
  },
  {
   "cell_type": "code",
   "execution_count": 62,
   "metadata": {},
   "outputs": [
    {
     "name": "stdout",
     "output_type": "stream",
     "text": [
      "Epoch 1/50\n",
      "1/1 [==============================] - 1s 1s/step - loss: 1.8423 - acc: 0.1789 - val_loss: 1.7092 - val_acc: 0.2891\n",
      "Epoch 2/50\n",
      "1/1 [==============================] - 0s 169ms/step - loss: 1.6897 - acc: 0.3104 - val_loss: 1.5887 - val_acc: 0.3578\n",
      "Epoch 3/50\n",
      "1/1 [==============================] - 0s 140ms/step - loss: 1.5941 - acc: 0.3442 - val_loss: 1.4484 - val_acc: 0.4100\n",
      "Epoch 4/50\n",
      "1/1 [==============================] - 0s 137ms/step - loss: 1.4496 - acc: 0.3981 - val_loss: 1.3516 - val_acc: 0.4763\n",
      "Epoch 5/50\n",
      "1/1 [==============================] - 0s 152ms/step - loss: 1.3837 - acc: 0.4437 - val_loss: 1.2501 - val_acc: 0.6043\n",
      "Epoch 6/50\n",
      "1/1 [==============================] - 0s 131ms/step - loss: 1.2730 - acc: 0.5130 - val_loss: 1.1234 - val_acc: 0.7322\n",
      "Epoch 7/50\n",
      "1/1 [==============================] - 0s 138ms/step - loss: 1.1367 - acc: 0.6102 - val_loss: 1.0109 - val_acc: 0.7654\n",
      "Epoch 8/50\n",
      "1/1 [==============================] - 0s 133ms/step - loss: 1.0289 - acc: 0.6665 - val_loss: 0.9193 - val_acc: 0.7678\n",
      "Epoch 9/50\n",
      "1/1 [==============================] - 0s 134ms/step - loss: 0.9726 - acc: 0.6801 - val_loss: 0.8410 - val_acc: 0.7749\n",
      "Epoch 10/50\n",
      "1/1 [==============================] - 0s 144ms/step - loss: 0.8990 - acc: 0.6955 - val_loss: 0.7808 - val_acc: 0.7773\n",
      "Epoch 11/50\n",
      "1/1 [==============================] - 0s 134ms/step - loss: 0.8272 - acc: 0.7139 - val_loss: 0.7369 - val_acc: 0.7820\n",
      "Epoch 12/50\n",
      "1/1 [==============================] - 0s 137ms/step - loss: 0.7561 - acc: 0.7512 - val_loss: 0.7138 - val_acc: 0.7938\n",
      "Epoch 13/50\n",
      "1/1 [==============================] - 0s 132ms/step - loss: 0.7397 - acc: 0.7654 - val_loss: 0.7109 - val_acc: 0.7915\n",
      "Epoch 14/50\n",
      "1/1 [==============================] - 0s 137ms/step - loss: 0.6870 - acc: 0.7778 - val_loss: 0.7144 - val_acc: 0.7962\n",
      "Epoch 15/50\n",
      "1/1 [==============================] - 0s 138ms/step - loss: 0.6514 - acc: 0.7826 - val_loss: 0.7086 - val_acc: 0.7915\n",
      "Epoch 16/50\n",
      "1/1 [==============================] - 0s 137ms/step - loss: 0.6336 - acc: 0.7909 - val_loss: 0.6966 - val_acc: 0.7938\n",
      "Epoch 17/50\n",
      "1/1 [==============================] - 0s 141ms/step - loss: 0.6001 - acc: 0.8134 - val_loss: 0.6902 - val_acc: 0.7962\n",
      "Epoch 18/50\n",
      "1/1 [==============================] - 0s 131ms/step - loss: 0.5669 - acc: 0.8116 - val_loss: 0.6892 - val_acc: 0.7891\n",
      "Epoch 19/50\n",
      "1/1 [==============================] - 0s 153ms/step - loss: 0.5512 - acc: 0.8193 - val_loss: 0.6898 - val_acc: 0.7820\n",
      "Epoch 20/50\n",
      "1/1 [==============================] - 0s 244ms/step - loss: 0.5320 - acc: 0.8175 - val_loss: 0.6909 - val_acc: 0.7820\n",
      "Epoch 21/50\n",
      "1/1 [==============================] - 0s 143ms/step - loss: 0.5013 - acc: 0.8359 - val_loss: 0.6928 - val_acc: 0.7773\n",
      "Epoch 22/50\n",
      "1/1 [==============================] - 0s 138ms/step - loss: 0.4832 - acc: 0.8365 - val_loss: 0.6978 - val_acc: 0.7820\n",
      "Epoch 23/50\n",
      "1/1 [==============================] - 0s 169ms/step - loss: 0.4495 - acc: 0.8543 - val_loss: 0.7024 - val_acc: 0.7867\n",
      "Epoch 24/50\n",
      "1/1 [==============================] - 0s 200ms/step - loss: 0.4507 - acc: 0.8531 - val_loss: 0.7056 - val_acc: 0.7844\n",
      "Epoch 25/50\n",
      "1/1 [==============================] - 0s 196ms/step - loss: 0.4054 - acc: 0.8637 - val_loss: 0.7098 - val_acc: 0.7867\n",
      "Epoch 26/50\n",
      "1/1 [==============================] - 0s 146ms/step - loss: 0.4183 - acc: 0.8555 - val_loss: 0.7173 - val_acc: 0.7773\n",
      "Epoch 27/50\n",
      "1/1 [==============================] - 0s 135ms/step - loss: 0.4136 - acc: 0.8590 - val_loss: 0.7294 - val_acc: 0.7773\n",
      "Epoch 28/50\n",
      "1/1 [==============================] - 0s 139ms/step - loss: 0.4228 - acc: 0.8584 - val_loss: 0.7406 - val_acc: 0.7749\n",
      "Epoch 29/50\n",
      "1/1 [==============================] - 0s 132ms/step - loss: 0.3982 - acc: 0.8584 - val_loss: 0.7521 - val_acc: 0.7844\n",
      "Epoch 30/50\n",
      "1/1 [==============================] - 0s 156ms/step - loss: 0.3676 - acc: 0.8762 - val_loss: 0.7639 - val_acc: 0.7820\n",
      "Epoch 31/50\n",
      "1/1 [==============================] - 0s 145ms/step - loss: 0.3610 - acc: 0.8803 - val_loss: 0.7765 - val_acc: 0.7820\n",
      "Epoch 32/50\n",
      "1/1 [==============================] - 0s 149ms/step - loss: 0.3405 - acc: 0.8750 - val_loss: 0.7901 - val_acc: 0.7844\n",
      "Epoch 33/50\n",
      "1/1 [==============================] - 0s 141ms/step - loss: 0.3388 - acc: 0.8827 - val_loss: 0.8030 - val_acc: 0.7844\n",
      "Epoch 34/50\n",
      "1/1 [==============================] - 0s 138ms/step - loss: 0.3182 - acc: 0.8857 - val_loss: 0.8155 - val_acc: 0.7867\n",
      "Epoch 35/50\n",
      "1/1 [==============================] - 0s 136ms/step - loss: 0.3384 - acc: 0.8797 - val_loss: 0.8286 - val_acc: 0.7820\n",
      "Epoch 36/50\n",
      "1/1 [==============================] - 0s 136ms/step - loss: 0.3326 - acc: 0.8868 - val_loss: 0.8393 - val_acc: 0.7701\n",
      "Epoch 37/50\n",
      "1/1 [==============================] - 0s 136ms/step - loss: 0.3232 - acc: 0.8874 - val_loss: 0.8517 - val_acc: 0.7701\n",
      "Epoch 38/50\n",
      "1/1 [==============================] - 0s 139ms/step - loss: 0.3029 - acc: 0.8928 - val_loss: 0.8620 - val_acc: 0.7678\n",
      "Epoch 39/50\n",
      "1/1 [==============================] - 0s 136ms/step - loss: 0.2704 - acc: 0.9141 - val_loss: 0.8713 - val_acc: 0.7725\n",
      "Epoch 40/50\n",
      "1/1 [==============================] - 0s 145ms/step - loss: 0.3002 - acc: 0.8987 - val_loss: 0.8795 - val_acc: 0.7749\n",
      "Epoch 41/50\n",
      "1/1 [==============================] - 0s 162ms/step - loss: 0.3054 - acc: 0.8874 - val_loss: 0.8867 - val_acc: 0.7796\n",
      "Epoch 42/50\n",
      "1/1 [==============================] - 0s 134ms/step - loss: 0.3084 - acc: 0.8910 - val_loss: 0.8921 - val_acc: 0.7820\n",
      "Epoch 43/50\n",
      "1/1 [==============================] - 0s 134ms/step - loss: 0.2544 - acc: 0.9076 - val_loss: 0.8985 - val_acc: 0.7820\n",
      "Epoch 44/50\n",
      "1/1 [==============================] - 0s 132ms/step - loss: 0.2576 - acc: 0.9082 - val_loss: 0.9052 - val_acc: 0.7796\n",
      "Epoch 45/50\n",
      "1/1 [==============================] - 0s 134ms/step - loss: 0.2648 - acc: 0.9070 - val_loss: 0.9124 - val_acc: 0.7796\n",
      "Epoch 46/50\n",
      "1/1 [==============================] - 0s 129ms/step - loss: 0.2614 - acc: 0.9023 - val_loss: 0.9195 - val_acc: 0.7796\n",
      "Epoch 47/50\n",
      "1/1 [==============================] - 0s 130ms/step - loss: 0.2448 - acc: 0.9094 - val_loss: 0.9240 - val_acc: 0.7773\n",
      "Epoch 48/50\n",
      "1/1 [==============================] - 0s 138ms/step - loss: 0.2529 - acc: 0.9100 - val_loss: 0.9264 - val_acc: 0.7796\n",
      "Epoch 49/50\n",
      "1/1 [==============================] - 0s 132ms/step - loss: 0.2500 - acc: 0.9153 - val_loss: 0.9330 - val_acc: 0.7796\n",
      "Epoch 50/50\n",
      "1/1 [==============================] - 0s 137ms/step - loss: 0.2403 - acc: 0.9153 - val_loss: 0.9448 - val_acc: 0.7773\n"
     ]
    }
   ],
   "source": [
    "history = model.fit(train_gen, validation_data=test_gen, epochs=50)"
   ]
  },
  {
   "cell_type": "code",
   "execution_count": 63,
   "metadata": {},
   "outputs": [
    {
     "data": {
      "image/png": "[encoded data removed]",
      "text/plain": [
       "<Figure size 504x576 with 2 Axes>"
      ]
     },
     "metadata": {
      "needs_background": "light"
     },
     "output_type": "display_data"
    }
   ],
   "source": [
    "sg.utils.plot_history(history)"
   ]
  },
  {
   "cell_type": "code",
   "execution_count": 64,
   "metadata": {},
   "outputs": [
    {
     "name": "stdout",
     "output_type": "stream",
     "text": [
      "1/1 [==============================] - 0s 65ms/step - loss: 0.9448 - acc: 0.7773\n",
      "\n",
      "Test Set Metrics:\n",
      "\tloss: 0.9448\n",
      "\tacc: 0.7773\n"
     ]
    }
   ],
   "source": [
    "test_metrics = model.evaluate(test_gen)\n",
    "print(\"\\nTest Set Metrics:\")\n",
    "for name, val in zip(model.metrics_names, test_metrics):\n",
    "    print(\"\\t{}: {:0.4f}\".format(name, val))"
   ]
  },
  {
   "cell_type": "markdown",
   "metadata": {},
   "source": [
    "# Citeseer Dataset"
   ]
  },
  {
   "cell_type": "code",
   "execution_count": 65,
   "metadata": {},
   "outputs": [
    {
     "data": {
      "text/html": [
       "The CiteSeer dataset consists of 3312 scientific publications classified into one of six classes. The citation network consists of 4732 links, although 17 of these have a source or target publication that isn't in the dataset and only 4715 are included in the graph. Each publication in the dataset is described by a 0/1-valued word vector indicating the absence/presence of the corresponding word from the dictionary. The dictionary consists of 3703 unique words."
      ],
      "text/plain": [
       "<IPython.core.display.HTML object>"
      ]
     },
     "metadata": {},
     "output_type": "display_data"
    }
   ],
   "source": [
    "dataset = datasets.CiteSeer()\n",
    "display(HTML(dataset.description))\n",
    "G, subjects = dataset.load(largest_connected_component_only=True)"
   ]
  },
  {
   "cell_type": "code",
   "execution_count": 66,
   "metadata": {},
   "outputs": [],
   "source": [
    "train_subjects, test_subjects = model_selection.train_test_split(\n",
    "    subjects, train_size=0.8, test_size=0.2, stratify=subjects\n",
    ")"
   ]
  },
  {
   "cell_type": "code",
   "execution_count": 67,
   "metadata": {},
   "outputs": [],
   "source": [
    "target_encoding = preprocessing.LabelBinarizer()\n",
    "\n",
    "train_targets = target_encoding.fit_transform(train_subjects)\n",
    "test_targets = target_encoding.transform(test_subjects)"
   ]
  },
  {
   "cell_type": "code",
   "execution_count": 68,
   "metadata": {},
   "outputs": [],
   "source": [
    "generator = RelationalFullBatchNodeGenerator(G, sparse=True)\n",
    "\n",
    "train_gen = generator.flow(train_subjects.index, targets=train_targets)\n",
    "test_gen = generator.flow(test_subjects.index, targets=test_targets)"
   ]
  },
  {
   "cell_type": "code",
   "execution_count": 69,
   "metadata": {},
   "outputs": [],
   "source": [
    "rgcn = RGCN(\n",
    "    layer_sizes=[16, 16],\n",
    "    activations=[\"relu\", \"relu\"],\n",
    "    generator=generator,\n",
    "    bias=True,\n",
    "    num_bases=0,\n",
    "    dropout=0.5,\n",
    ")"
   ]
  },
  {
   "cell_type": "code",
   "execution_count": 70,
   "metadata": {},
   "outputs": [],
   "source": [
    "x_in, x_out = rgcn.in_out_tensors()\n",
    "predictions = Dense(train_targets.shape[-1], activation=\"softmax\")(x_out)\n",
    "model = Model(inputs=x_in, outputs=predictions)\n",
    "model.compile(\n",
    "    loss=\"categorical_crossentropy\",\n",
    "    optimizer=keras.optimizers.Adam(0.01),\n",
    "    metrics=[\"acc\"],\n",
    ")"
   ]
  },
  {
   "cell_type": "code",
   "execution_count": 71,
   "metadata": {},
   "outputs": [
    {
     "name": "stdout",
     "output_type": "stream",
     "text": [
      "Epoch 1/50\n",
      "1/1 [==============================] - 1s 875ms/step - loss: 1.7836 - acc: 0.2103 - val_loss: 1.5978 - val_acc: 0.3839\n",
      "Epoch 2/50\n",
      "1/1 [==============================] - 0s 137ms/step - loss: 1.5880 - acc: 0.3744 - val_loss: 1.4038 - val_acc: 0.4929\n",
      "Epoch 3/50\n",
      "1/1 [==============================] - 0s 140ms/step - loss: 1.4289 - acc: 0.4461 - val_loss: 1.2415 - val_acc: 0.5664\n",
      "Epoch 4/50\n",
      "1/1 [==============================] - 0s 138ms/step - loss: 1.2791 - acc: 0.5308 - val_loss: 1.1210 - val_acc: 0.6280\n",
      "Epoch 5/50\n",
      "1/1 [==============================] - 0s 139ms/step - loss: 1.1402 - acc: 0.5960 - val_loss: 1.0256 - val_acc: 0.6801\n",
      "Epoch 6/50\n",
      "1/1 [==============================] - 0s 131ms/step - loss: 1.0359 - acc: 0.6540 - val_loss: 0.9508 - val_acc: 0.7180\n",
      "Epoch 7/50\n",
      "1/1 [==============================] - 0s 135ms/step - loss: 0.9255 - acc: 0.6973 - val_loss: 0.9003 - val_acc: 0.7441\n",
      "Epoch 8/50\n",
      "1/1 [==============================] - 0s 138ms/step - loss: 0.8818 - acc: 0.6908 - val_loss: 0.8720 - val_acc: 0.7393\n",
      "Epoch 9/50\n",
      "1/1 [==============================] - 0s 148ms/step - loss: 0.8001 - acc: 0.7340 - val_loss: 0.8524 - val_acc: 0.7559\n",
      "Epoch 10/50\n",
      "1/1 [==============================] - 0s 141ms/step - loss: 0.7566 - acc: 0.7429 - val_loss: 0.8446 - val_acc: 0.7678\n",
      "Epoch 11/50\n",
      "1/1 [==============================] - 0s 136ms/step - loss: 0.7291 - acc: 0.7453 - val_loss: 0.8476 - val_acc: 0.7725\n",
      "Epoch 12/50\n",
      "1/1 [==============================] - 0s 135ms/step - loss: 0.6671 - acc: 0.7589 - val_loss: 0.8566 - val_acc: 0.7701\n",
      "Epoch 13/50\n",
      "1/1 [==============================] - 0s 136ms/step - loss: 0.6456 - acc: 0.7725 - val_loss: 0.8668 - val_acc: 0.7725\n",
      "Epoch 14/50\n",
      "1/1 [==============================] - 0s 141ms/step - loss: 0.6517 - acc: 0.7773 - val_loss: 0.8718 - val_acc: 0.7796\n",
      "Epoch 15/50\n",
      "1/1 [==============================] - 0s 147ms/step - loss: 0.6218 - acc: 0.7962 - val_loss: 0.8737 - val_acc: 0.7820\n",
      "Epoch 16/50\n",
      "1/1 [==============================] - 0s 146ms/step - loss: 0.5475 - acc: 0.8175 - val_loss: 0.8768 - val_acc: 0.7773\n",
      "Epoch 17/50\n",
      "1/1 [==============================] - 0s 149ms/step - loss: 0.5298 - acc: 0.8383 - val_loss: 0.8806 - val_acc: 0.7749\n",
      "Epoch 18/50\n",
      "1/1 [==============================] - 0s 241ms/step - loss: 0.4908 - acc: 0.8412 - val_loss: 0.8846 - val_acc: 0.7749\n",
      "Epoch 19/50\n",
      "1/1 [==============================] - 0s 137ms/step - loss: 0.4963 - acc: 0.8389 - val_loss: 0.8878 - val_acc: 0.7749\n",
      "Epoch 20/50\n",
      "1/1 [==============================] - 0s 138ms/step - loss: 0.4805 - acc: 0.8424 - val_loss: 0.8902 - val_acc: 0.7773\n",
      "Epoch 21/50\n",
      "1/1 [==============================] - 0s 143ms/step - loss: 0.4319 - acc: 0.8590 - val_loss: 0.8966 - val_acc: 0.7773\n",
      "Epoch 22/50\n",
      "1/1 [==============================] - 0s 138ms/step - loss: 0.3907 - acc: 0.8744 - val_loss: 0.9085 - val_acc: 0.7773\n",
      "Epoch 23/50\n",
      "1/1 [==============================] - 0s 134ms/step - loss: 0.4166 - acc: 0.8691 - val_loss: 0.9198 - val_acc: 0.7773\n",
      "Epoch 24/50\n",
      "1/1 [==============================] - 0s 134ms/step - loss: 0.4068 - acc: 0.8655 - val_loss: 0.9308 - val_acc: 0.7844\n",
      "Epoch 25/50\n",
      "1/1 [==============================] - 0s 136ms/step - loss: 0.3799 - acc: 0.8685 - val_loss: 0.9431 - val_acc: 0.7844\n",
      "Epoch 26/50\n",
      "1/1 [==============================] - 0s 132ms/step - loss: 0.3569 - acc: 0.8703 - val_loss: 0.9576 - val_acc: 0.7844\n",
      "Epoch 27/50\n",
      "1/1 [==============================] - 0s 135ms/step - loss: 0.3648 - acc: 0.8691 - val_loss: 0.9748 - val_acc: 0.7867\n",
      "Epoch 28/50\n",
      "1/1 [==============================] - 0s 133ms/step - loss: 0.3413 - acc: 0.8904 - val_loss: 0.9906 - val_acc: 0.7891\n",
      "Epoch 29/50\n",
      "1/1 [==============================] - 0s 134ms/step - loss: 0.3291 - acc: 0.8809 - val_loss: 1.0065 - val_acc: 0.7867\n",
      "Epoch 30/50\n",
      "1/1 [==============================] - 0s 137ms/step - loss: 0.3412 - acc: 0.8786 - val_loss: 1.0201 - val_acc: 0.7844\n",
      "Epoch 31/50\n",
      "1/1 [==============================] - 0s 134ms/step - loss: 0.3186 - acc: 0.8780 - val_loss: 1.0397 - val_acc: 0.7844\n",
      "Epoch 32/50\n",
      "1/1 [==============================] - 0s 135ms/step - loss: 0.3371 - acc: 0.8774 - val_loss: 1.0588 - val_acc: 0.7867\n",
      "Epoch 33/50\n",
      "1/1 [==============================] - 0s 133ms/step - loss: 0.3328 - acc: 0.8833 - val_loss: 1.0724 - val_acc: 0.7844\n",
      "Epoch 34/50\n",
      "1/1 [==============================] - 0s 132ms/step - loss: 0.2966 - acc: 0.8969 - val_loss: 1.0885 - val_acc: 0.7796\n",
      "Epoch 35/50\n",
      "1/1 [==============================] - 0s 137ms/step - loss: 0.2866 - acc: 0.8928 - val_loss: 1.1070 - val_acc: 0.7796\n",
      "Epoch 36/50\n",
      "1/1 [==============================] - 0s 142ms/step - loss: 0.3164 - acc: 0.8940 - val_loss: 1.1202 - val_acc: 0.7773\n",
      "Epoch 37/50\n",
      "1/1 [==============================] - 0s 137ms/step - loss: 0.2748 - acc: 0.9017 - val_loss: 1.1279 - val_acc: 0.7773\n",
      "Epoch 38/50\n",
      "1/1 [==============================] - 0s 129ms/step - loss: 0.3005 - acc: 0.8868 - val_loss: 1.1382 - val_acc: 0.7749\n",
      "Epoch 39/50\n",
      "1/1 [==============================] - 0s 231ms/step - loss: 0.3011 - acc: 0.8857 - val_loss: 1.1441 - val_acc: 0.7725\n",
      "Epoch 40/50\n",
      "1/1 [==============================] - 0s 131ms/step - loss: 0.2707 - acc: 0.9088 - val_loss: 1.1548 - val_acc: 0.7701\n",
      "Epoch 41/50\n",
      "1/1 [==============================] - 0s 132ms/step - loss: 0.2647 - acc: 0.9028 - val_loss: 1.1631 - val_acc: 0.7678\n",
      "Epoch 42/50\n",
      "1/1 [==============================] - 0s 134ms/step - loss: 0.2696 - acc: 0.9082 - val_loss: 1.1662 - val_acc: 0.7630\n",
      "Epoch 43/50\n",
      "1/1 [==============================] - 0s 135ms/step - loss: 0.2564 - acc: 0.9105 - val_loss: 1.1703 - val_acc: 0.7630\n",
      "Epoch 44/50\n",
      "1/1 [==============================] - 0s 131ms/step - loss: 0.2601 - acc: 0.9094 - val_loss: 1.1790 - val_acc: 0.7630\n",
      "Epoch 45/50\n",
      "1/1 [==============================] - 0s 133ms/step - loss: 0.2291 - acc: 0.9248 - val_loss: 1.1942 - val_acc: 0.7749\n",
      "Epoch 46/50\n",
      "1/1 [==============================] - 0s 139ms/step - loss: 0.2378 - acc: 0.9171 - val_loss: 1.2156 - val_acc: 0.7749\n",
      "Epoch 47/50\n",
      "1/1 [==============================] - 0s 132ms/step - loss: 0.2588 - acc: 0.9105 - val_loss: 1.2345 - val_acc: 0.7749\n",
      "Epoch 48/50\n",
      "1/1 [==============================] - 0s 132ms/step - loss: 0.2369 - acc: 0.9212 - val_loss: 1.2503 - val_acc: 0.7773\n",
      "Epoch 49/50\n",
      "1/1 [==============================] - 0s 135ms/step - loss: 0.2241 - acc: 0.9200 - val_loss: 1.2681 - val_acc: 0.7701\n",
      "Epoch 50/50\n",
      "1/1 [==============================] - 0s 130ms/step - loss: 0.2387 - acc: 0.9141 - val_loss: 1.2851 - val_acc: 0.7701\n"
     ]
    }
   ],
   "source": [
    "history = model.fit(train_gen, validation_data=test_gen, epochs=50)"
   ]
  },
  {
   "cell_type": "code",
   "execution_count": 72,
   "metadata": {},
   "outputs": [
    {
     "data": {
      "image/png": "[encoded data removed]",
      "text/plain": [
       "<Figure size 504x576 with 2 Axes>"
      ]
     },
     "metadata": {
      "needs_background": "light"
     },
     "output_type": "display_data"
    }
   ],
   "source": [
    "sg.utils.plot_history(history)"
   ]
  },
  {
   "cell_type": "code",
   "execution_count": 73,
   "metadata": {
    "scrolled": true
   },
   "outputs": [
    {
     "name": "stdout",
     "output_type": "stream",
     "text": [
      "1/1 [==============================] - 0s 53ms/step - loss: 1.2851 - acc: 0.7701\n",
      "\n",
      "Test Set Metrics:\n",
      "\tloss: 1.2851\n",
      "\tacc: 0.7701\n"
     ]
    }
   ],
   "source": [
    "test_metrics = model.evaluate(test_gen)\n",
    "print(\"\\nTest Set Metrics:\")\n",
    "for name, val in zip(model.metrics_names, test_metrics):\n",
    "    print(\"\\t{}: {:0.4f}\".format(name, val))"
   ]
  },
  {
   "cell_type": "code",
   "execution_count": null,
   "metadata": {},
   "outputs": [],
   "source": []
  },
  {
   "cell_type": "code",
   "execution_count": null,
   "metadata": {},
   "outputs": [],
   "source": []
  },
  {
   "cell_type": "code",
   "execution_count": null,
   "metadata": {},
   "outputs": [],
   "source": []
  },
  {
   "cell_type": "code",
   "execution_count": null,
   "metadata": {},
   "outputs": [],
   "source": []
  },
  {
   "cell_type": "code",
   "execution_count": null,
   "metadata": {},
   "outputs": [],
   "source": []
  },
  {
   "cell_type": "code",
   "execution_count": null,
   "metadata": {},
   "outputs": [],
   "source": []
  }
 ],
 "metadata": {
  "kernelspec": {
   "display_name": "Python 3",
   "language": "python",
   "name": "python3"
  },
  "language_info": {
   "codemirror_mode": {
    "name": "ipython",
    "version": 3
   },
   "file_extension": ".py",
   "mimetype": "text/x-python",
   "name": "python",
   "nbconvert_exporter": "python",
   "pygments_lexer": "ipython3",
   "version": "3.7.6"
  }
 },
 "nbformat": 4,
 "nbformat_minor": 4
}
